{
 "cells": [
  {
   "cell_type": "code",
   "execution_count": 2,
   "metadata": {},
   "outputs": [],
   "source": [
    "from pymongo import MongoClient\n",
    "from time import time\n",
    "import csv"
   ]
  },
  {
   "cell_type": "code",
   "execution_count": 3,
   "metadata": {},
   "outputs": [],
   "source": [
    "client = MongoClient()"
   ]
  },
  {
   "cell_type": "code",
   "execution_count": 4,
   "metadata": {},
   "outputs": [
    {
     "data": {
      "text/plain": [
       "['admin', 'config', 'local']"
      ]
     },
     "execution_count": 4,
     "metadata": {},
     "output_type": "execute_result"
    }
   ],
   "source": [
    "client.list_database_names()"
   ]
  },
  {
   "cell_type": "code",
   "execution_count": 5,
   "metadata": {},
   "outputs": [],
   "source": [
    "db = client['test']"
   ]
  },
  {
   "cell_type": "code",
   "execution_count": 6,
   "metadata": {},
   "outputs": [
    {
     "data": {
      "text/plain": [
       "['mydatabase']"
      ]
     },
     "execution_count": 6,
     "metadata": {},
     "output_type": "execute_result"
    }
   ],
   "source": [
    "db.list_collection_names()"
   ]
  },
  {
   "cell_type": "code",
   "execution_count": 7,
   "metadata": {},
   "outputs": [],
   "source": [
    "collection = db['mydatabase']"
   ]
  },
  {
   "cell_type": "code",
   "execution_count": 8,
   "metadata": {},
   "outputs": [
    {
     "data": {
      "text/plain": [
       "dict_keys(['_id', 'sha', 'node_id', 'commit', 'url', 'html_url', 'comments_url', 'author', 'committer', 'parents', 'stats', 'files', 'etag'])"
      ]
     },
     "execution_count": 8,
     "metadata": {},
     "output_type": "execute_result"
    }
   ],
   "source": [
    "collection.find_one().keys()"
   ]
  },
  {
   "cell_type": "code",
   "execution_count": 9,
   "metadata": {},
   "outputs": [
    {
     "data": {
      "text/plain": [
       "{'author': {'date': '2019-06-30T02:00:53Z',\n",
       "  'email': 'cp2141@gmail.com',\n",
       "  'name': 'cp2141'},\n",
       " 'comment_count': 0,\n",
       " 'committer': {'date': '2019-06-30T02:00:53Z',\n",
       "  'email': 'cp2141@gmail.com',\n",
       "  'name': 'cp2141'},\n",
       " 'message': 'Scheduled stats update.',\n",
       " 'tree': {'sha': '62ba43daf62d84fb4024d86873fa06fc6ae228dc',\n",
       "  'url': 'https://api.github.com/repos/dvstats/dvstats.github.io/git/trees/62ba43daf62d84fb4024d86873fa06fc6ae228dc'},\n",
       " 'url': 'https://api.github.com/repos/dvstats/dvstats.github.io/git/commits/16c0c36b0218faa3928f9e405cf3d07009d6f4e5',\n",
       " 'verification': {'payload': None,\n",
       "  'reason': 'unsigned',\n",
       "  'signature': None,\n",
       "  'verified': False}}"
      ]
     },
     "execution_count": 9,
     "metadata": {},
     "output_type": "execute_result"
    }
   ],
   "source": [
    "collection.find_one()['commit']"
   ]
  },
  {
   "cell_type": "code",
   "execution_count": 10,
   "metadata": {},
   "outputs": [
    {
     "data": {
      "text/plain": [
       "'https://github.com/dvstats/dvstats.github.io/commit/16c0c36b0218faa3928f9e405cf3d07009d6f4e5'"
      ]
     },
     "execution_count": 10,
     "metadata": {},
     "output_type": "execute_result"
    }
   ],
   "source": [
    "collection.find_one()['html_url']"
   ]
  },
  {
   "cell_type": "code",
   "execution_count": 11,
   "metadata": {},
   "outputs": [
    {
     "data": {
      "text/plain": [
       "{'avatar_url': 'https://avatars0.githubusercontent.com/u/6321761?v=4',\n",
       " 'events_url': 'https://api.github.com/users/cp2141/events{/privacy}',\n",
       " 'followers_url': 'https://api.github.com/users/cp2141/followers',\n",
       " 'following_url': 'https://api.github.com/users/cp2141/following{/other_user}',\n",
       " 'gists_url': 'https://api.github.com/users/cp2141/gists{/gist_id}',\n",
       " 'gravatar_id': '',\n",
       " 'html_url': 'https://github.com/cp2141',\n",
       " 'id': 6321761,\n",
       " 'login': 'cp2141',\n",
       " 'node_id': 'MDQ6VXNlcjYzMjE3NjE=',\n",
       " 'organizations_url': 'https://api.github.com/users/cp2141/orgs',\n",
       " 'received_events_url': 'https://api.github.com/users/cp2141/received_events',\n",
       " 'repos_url': 'https://api.github.com/users/cp2141/repos',\n",
       " 'site_admin': False,\n",
       " 'starred_url': 'https://api.github.com/users/cp2141/starred{/owner}{/repo}',\n",
       " 'subscriptions_url': 'https://api.github.com/users/cp2141/subscriptions',\n",
       " 'type': 'User',\n",
       " 'url': 'https://api.github.com/users/cp2141'}"
      ]
     },
     "execution_count": 11,
     "metadata": {},
     "output_type": "execute_result"
    }
   ],
   "source": [
    "collection.find_one()['author']"
   ]
  },
  {
   "cell_type": "code",
   "execution_count": 12,
   "metadata": {},
   "outputs": [
    {
     "data": {
      "text/plain": [
       "{'avatar_url': 'https://avatars0.githubusercontent.com/u/6321761?v=4',\n",
       " 'events_url': 'https://api.github.com/users/cp2141/events{/privacy}',\n",
       " 'followers_url': 'https://api.github.com/users/cp2141/followers',\n",
       " 'following_url': 'https://api.github.com/users/cp2141/following{/other_user}',\n",
       " 'gists_url': 'https://api.github.com/users/cp2141/gists{/gist_id}',\n",
       " 'gravatar_id': '',\n",
       " 'html_url': 'https://github.com/cp2141',\n",
       " 'id': 6321761,\n",
       " 'login': 'cp2141',\n",
       " 'node_id': 'MDQ6VXNlcjYzMjE3NjE=',\n",
       " 'organizations_url': 'https://api.github.com/users/cp2141/orgs',\n",
       " 'received_events_url': 'https://api.github.com/users/cp2141/received_events',\n",
       " 'repos_url': 'https://api.github.com/users/cp2141/repos',\n",
       " 'site_admin': False,\n",
       " 'starred_url': 'https://api.github.com/users/cp2141/starred{/owner}{/repo}',\n",
       " 'subscriptions_url': 'https://api.github.com/users/cp2141/subscriptions',\n",
       " 'type': 'User',\n",
       " 'url': 'https://api.github.com/users/cp2141'}"
      ]
     },
     "execution_count": 12,
     "metadata": {},
     "output_type": "execute_result"
    }
   ],
   "source": [
    "collection.find_one()['committer']"
   ]
  },
  {
   "cell_type": "code",
   "execution_count": 28,
   "metadata": {},
   "outputs": [],
   "source": [
    "people = {}"
   ]
  },
  {
   "cell_type": "code",
   "execution_count": 29,
   "metadata": {},
   "outputs": [
    {
     "name": "stdout",
     "output_type": "stream",
     "text": [
      "768659 commits processed in 163.24292969703674 seconds\n"
     ]
    }
   ],
   "source": [
    "start = time()\n",
    "\n",
    "num = 0\n",
    "for commit in collection.find():\n",
    "    num+=1\n",
    "    if 'author' in commit['commit']:\n",
    "        email = commit['commit']['author']['email']\n",
    "        name = commit['commit']['author']['name']\n",
    "\n",
    "        if 'author' in commit and commit['author']!=None:\n",
    "            author = commit['author']\n",
    "        else:\n",
    "            author = {}\n",
    "\n",
    "        author['email'] = email\n",
    "        author['name'] = name\n",
    "\n",
    "        if ('noreply.github' not in email) and email not in people:\n",
    "            people[ email ] = author\n",
    "\n",
    "    if 'committer' in commit['commit']:\n",
    "        email = commit['commit']['committer']['email']\n",
    "        name = commit['commit']['committer']['name']\n",
    "\n",
    "        if 'committer' in commit and commit['committer']!=None:\n",
    "            committer = commit['committer']\n",
    "        else:\n",
    "            committer = {}\n",
    "\n",
    "        committer['email'] = email\n",
    "        committer['name'] = name\n",
    "\n",
    "        if ('noreply.github' not in email) and email not in people:\n",
    "            people[ email ] = committer\n",
    "    else:\n",
    "        print(commit)\n",
    "        break\n",
    "    \n",
    "print(num,\"commits processed in\",time()-start,\"seconds\")"
   ]
  },
  {
   "cell_type": "code",
   "execution_count": 30,
   "metadata": {},
   "outputs": [
    {
     "name": "stdout",
     "output_type": "stream",
     "text": [
      "132293\n"
     ]
    }
   ],
   "source": [
    "print(len(people))"
   ]
  },
  {
   "cell_type": "code",
   "execution_count": 23,
   "metadata": {},
   "outputs": [
    {
     "data": {
      "text/plain": [
       "['cp2141@gmail.com',\n",
       " 'peterrueca@yahoo.com',\n",
       " 'janellejolliff@gmail.com',\n",
       " 'isaias_finger@hotmail.com',\n",
       " 'noreply@github.com',\n",
       " 'Ajaym6405@gmail.com',\n",
       " 'karn',\n",
       " 'ched.cheatham@mindrally.com',\n",
       " 'peteamer@gmail.com',\n",
       " 'martens.dan@gmail.com',\n",
       " 'chencoin@qq.com',\n",
       " '919773481@qq.com',\n",
       " '42575254+zsxs2@users.noreply.github.com',\n",
       " 'coelhoxz@gmail.com',\n",
       " 'paulavillanueva.22@gmail.com',\n",
       " '39532512+lucasoccaso@users.noreply.github.com',\n",
       " 'mail@elisakreiss.com',\n",
       " 'github@newstools.co.za',\n",
       " 'pcsb@cin.ufpe.br',\n",
       " '45906155+metalsonic21@users.noreply.github.com']"
      ]
     },
     "execution_count": 23,
     "metadata": {},
     "output_type": "execute_result"
    }
   ],
   "source": [
    "list(people.keys())[:20]"
   ]
  },
  {
   "cell_type": "code",
   "execution_count": 36,
   "metadata": {},
   "outputs": [
    {
     "name": "stdout",
     "output_type": "stream",
     "text": [
      "['name', 'organizations_url', 'node_id', 'html_url', 'login', 'id', 'avatar_url', 'events_url', 'followers_url', 'site_admin', 'received_events_url', 'following_url', 'gists_url', 'starred_url', 'type', 'subscriptions_url', 'repos_url', 'url', 'email', 'gravatar_id']\n"
     ]
    }
   ],
   "source": [
    "col = set()\n",
    "for v in people.values():\n",
    "    for k in v.keys():\n",
    "        col.add(k)\n",
    "col = list(col)        \n",
    "print(col)\n",
    "assert 'email' in col\n"
   ]
  },
  {
   "cell_type": "code",
   "execution_count": 34,
   "metadata": {},
   "outputs": [],
   "source": [
    "for e in people:\n",
    "    for c in col:\n",
    "        if c not in people[e]:\n",
    "            people[e][c] = ''"
   ]
  },
  {
   "cell_type": "code",
   "execution_count": 37,
   "metadata": {},
   "outputs": [],
   "source": [
    "with open('people.csv', 'w', newline='') as csvfile:\n",
    "    fieldnames = ['name', 'email', 'html_url','organizations_url', 'node_id', 'login', 'id', 'avatar_url', 'events_url', 'followers_url', 'site_admin', 'received_events_url', 'following_url', 'gists_url', 'starred_url', 'type', 'subscriptions_url', 'repos_url', 'url', 'gravatar_id']\n",
    "    writer = csv.DictWriter(csvfile, fieldnames=fieldnames)\n",
    "\n",
    "    writer.writeheader()\n",
    "    for v in people.values():\n",
    "        writer.writerow(v)"
   ]
  }
 ],
 "metadata": {
  "kernelspec": {
   "display_name": "Python 3",
   "language": "python",
   "name": "python3"
  },
  "language_info": {
   "codemirror_mode": {
    "name": "ipython",
    "version": 3
   },
   "file_extension": ".py",
   "mimetype": "text/x-python",
   "name": "python",
   "nbconvert_exporter": "python",
   "pygments_lexer": "ipython3",
   "version": "3.7.7"
  }
 },
 "nbformat": 4,
 "nbformat_minor": 4
}
